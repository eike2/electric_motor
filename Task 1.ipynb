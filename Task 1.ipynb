{
 "cells": [
  {
   "cell_type": "markdown",
   "id": "8e2b963e",
   "metadata": {},
   "source": [
    "## Task 1:\n",
    "### Deadline: 3.6.\n",
    "\n",
    "### Frame the Problem and Look at the Big Picture:\n",
    "1. Ziel des ML-Algorithmuses ist es die Temperatur des Permanent-Magneten des Elektormotors zu bestimmen. Dafür stehen im Datensatz alle relevanten Größen zur Verfügung.\n",
    "2. MSE, MAE, R2\n",
    "3. Im Elektromotor entsteht die Wärme durch die elektrischen Widerstände, Wirbelstromverluste und Reibungsverluste. Der elektrische Widerstand eines Elektromotors kann durch die Wicklungen etc. angenähert werden. Für die Wirbelstrom- und Reobungsverluste wird sich jeweils eine Annäherung finden. Anschließend kann man entweder versuchen manuell ein thermisches Netz aufzubauen, dass den Elektromotor wiederspiegelt. Oder man verwendet Simulationen um einen digitalen Zwilling zu erstellen, wodurch die Temperatur auf Basis der Verluste und der Simulation berechnet werden kann.\n",
    "4. Regression - Zieltemperatur\n",
    "\n",
    "# Messfrequenz - Relevanz im ML Modell?\n",
    "\n",
    "### Get the Data\n",
    "1. dieser Ordner\n",
    "2. github\n",
    "3. in diesem Ordner (gitignore)\n",
    "4. csv. - Daten werden in Variable gespeichert und im Code bearbeitet"
   ]
  },
  {
   "cell_type": "code",
   "execution_count": 1,
   "id": "322e388c",
   "metadata": {},
   "outputs": [
    {
     "name": "stdout",
     "output_type": "stream",
     "text": [
      "<class 'pandas.core.frame.DataFrame'>\n",
      "RangeIndex: 1330816 entries, 0 to 1330815\n",
      "Data columns (total 13 columns):\n",
      " #   Column          Non-Null Count    Dtype  \n",
      "---  ------          --------------    -----  \n",
      " 0   u_q             1330816 non-null  float64\n",
      " 1   coolant         1330816 non-null  float64\n",
      " 2   stator_winding  1330816 non-null  float64\n",
      " 3   u_d             1330816 non-null  float64\n",
      " 4   stator_tooth    1330816 non-null  float64\n",
      " 5   motor_speed     1330816 non-null  float64\n",
      " 6   i_d             1330816 non-null  float64\n",
      " 7   i_q             1330816 non-null  float64\n",
      " 8   pm              1330816 non-null  float64\n",
      " 9   stator_yoke     1330816 non-null  float64\n",
      " 10  ambient         1330816 non-null  float64\n",
      " 11  torque          1330816 non-null  float64\n",
      " 12  profile_id      1330816 non-null  int64  \n",
      "dtypes: float64(12), int64(1)\n",
      "memory usage: 132.0 MB\n"
     ]
    }
   ],
   "source": [
    "# Task 5\n",
    "# import required packages\n",
    "import pandas as pd\n",
    "\n",
    "# import raw data\n",
    "org = pd.read_csv('measures_v2.csv')\n",
    "df = org.copy()\n",
    "df.info()"
   ]
  },
  {
   "cell_type": "code",
   "execution_count": 2,
   "id": "38518656",
   "metadata": {},
   "outputs": [
    {
     "name": "stdout",
     "output_type": "stream",
     "text": [
      "[17  5 12 32 21  2  4  7 19  3  9 23 27 26 11  6 10 13 31 18 30 29  8 24\n",
      " 20 15 14 16 36 74 75 41 68 50 53 49 81 80 59 54 57 70 51 55 45 69 61 76\n",
      " 56 64 72 73 62 65 63 43 47 66 42 48 67 44 79 52 60 46 58 78 71]\n",
      "69\n",
      "[2, 3, 4, 5, 6, 7, 8, 9, 10, 11, 12, 13, 14, 15, 16, 17, 18, 19, 20, 21, 23, 24, 26, 27, 29, 30, 31, 32, 36, 41, 42, 43, 44, 45, 46, 47, 48, 49, 50, 51, 52, 53, 54, 55, 56, 57, 58, 59, 60, 61, 62, 63, 64, 65, 66, 67, 68, 69, 70, 71, 72, 73, 74, 75, 76, 78, 79, 80, 81]\n",
      "[67, 68, 69, 70, 71, 72, 73, 74, 75, 76, 78, 79, 80, 81]\n",
      "[2, 3, 4, 5, 6, 7, 8, 9, 10, 11, 12, 13, 14, 15, 16, 17, 18, 19, 20, 21, 23, 24, 26, 27, 29, 30, 31, 32, 36, 41, 42, 43, 44, 45, 46, 47, 48, 49, 50, 51, 52, 53, 54, 55, 56, 57, 58, 59, 60, 61, 62, 63, 64, 65, 66]\n"
     ]
    }
   ],
   "source": [
    "# Task 6\n",
    "# different Measurement ids\n",
    "measurements = df['profile_id'].unique()\n",
    "print(measurements)\n",
    "print(len(measurements))\n",
    "# 20% --> 14 measurements\n",
    "# splitting the highest 14 measurements\n",
    "print(sorted(measurements))\n",
    "df1, df2 = [x for _, x in df.groupby(df['profile_id'] < 67)]\n",
    "print(sorted(df1['profile_id'].unique())) # testset\n",
    "print(sorted(df2['profile_id'].unique())) # training set\n",
    "df1.to_csv('testset.csv', index = False)"
   ]
  },
  {
   "cell_type": "code",
   "execution_count": 3,
   "id": "209de456",
   "metadata": {},
   "outputs": [
    {
     "name": "stdout",
     "output_type": "stream",
     "text": [
      "[13, 14, 15, 16, 17, 18, 19, 20, 21, 23, 24, 26, 27, 29, 30, 31, 32, 36, 41, 42, 43, 44, 45, 46, 47, 48, 49, 50, 51, 52, 53, 54, 55, 56, 57, 58, 59, 60, 61, 62, 63, 64, 65, 66]\n",
      "[2, 3, 4, 5, 6, 7, 8, 9, 10, 11, 12]\n"
     ]
    }
   ],
   "source": [
    "# Task 7\n",
    "df2, df3 = [x for _, x in df2.groupby(df['profile_id'] < 13)]\n",
    "print(sorted(df2['profile_id'].unique())) # training set\n",
    "print(sorted(df3['profile_id'].unique())) # validation set\n",
    "df2.to_csv('trainingset.csv', index = False)\n",
    "df3.to_csv('validationset.csv', index = False)"
   ]
  },
  {
   "cell_type": "markdown",
   "id": "8af1c2c5",
   "metadata": {},
   "source": [
    "### Explore the Data\n",
    "Notebook: explore_the_data"
   ]
  },
  {
   "cell_type": "code",
   "execution_count": null,
   "id": "8f8aed1d",
   "metadata": {},
   "outputs": [],
   "source": []
  }
 ],
 "metadata": {
  "kernelspec": {
   "display_name": "ML2022",
   "language": "python",
   "name": "ml2022"
  },
  "language_info": {
   "codemirror_mode": {
    "name": "ipython",
    "version": 3
   },
   "file_extension": ".py",
   "mimetype": "text/x-python",
   "name": "python",
   "nbconvert_exporter": "python",
   "pygments_lexer": "ipython3",
   "version": "3.10.4"
  }
 },
 "nbformat": 4,
 "nbformat_minor": 5
}
